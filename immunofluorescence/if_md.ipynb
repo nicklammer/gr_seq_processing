{
 "cells": [
  {
   "cell_type": "markdown",
   "metadata": {},
   "source": [
    "# Analysis of GR immunofluorescence data (3 hour dex treatment)\n",
    "This Jupyter notebook contains scripts used to analyze immunofluorescence data. Specifically, the data is the median anti-GR nuclear and cytoplasmic signals from each imaged cell. The nuclear fraction of the total signal is then calculated plotted for each time point of dexamethasone treatment.\n",
    "\n",
    "# Table of contents\n",
    "1. [Load packages and files and format data](#load-packages-and-files-and-format-data)\n",
    "2. [Plot box plots of nuclear GR fraction](#plot-violin-plots-of-nuclear-gr-fraction)\n",
    "\n",
    "## Load packages and files and format data\n",
    "Load required packages and results files. Additionally, format data into a single dataframe for plotting."
   ]
  },
  {
   "cell_type": "code",
   "execution_count": null,
   "metadata": {},
   "outputs": [],
   "source": [
    "#notebook for plotting IF data\n",
    "import pandas as pd\n",
    "import numpy as np\n",
    "import matplotlib\n",
    "import matplotlib.pyplot as plt\n",
    "import seaborn as sns\n",
    "from sklearn.neighbors import KernelDensity\n",
    "#file paths here\n",
    "if_path=\"..\\\\data\"\n",
    "samples = [\"wt GR\", \"SoF\", \"Ctrl\"]\n",
    "cellnames = [\"WT\", \"92\", \"70\"]\n",
    "times = [\"0\", \"1\", \"2\", \"3\"]\n",
    "if_files = []\n",
    "for cell in cellnames:\n",
    "\tfor time in times:\n",
    "\t\tif_files.append(if_path+cell+\"_\"+time+\".xlsx\")\n",
    "#take data and put in dataframes\n",
    "def formatData(file,sample,time):\n",
    "\tdata=pd.read_excel(file)\n",
    "\tnuc=np.array(data[\"gfp_nuc_median\"]) \n",
    "\tcyto=np.array(data[\"gfp_cyto_median\"])\n",
    "\tnucfrac=[x/(x+y) for x,y in zip(nuc,cyto)]\n",
    "\tdict={\"nuc\":nuc,\n",
    "\t\t\"cyto\":cyto,\n",
    "\t\t\"Nuclear fraction\":nucfrac,\n",
    "\t\t\"Cell line\":sample,\n",
    "\t\t\"Time\":time\n",
    "\t\t}\n",
    "\tdf=pd.DataFrame(dict)\n",
    "\treturn df\n",
    "#format data from sheets and concatenate into one dataframe\n",
    "dfs=[]\n",
    "for i,sample in enumerate(samples):\n",
    "\tfor n,time in enumerate(times):\n",
    "\t\tfile=if_path+cellnames[i]+\"_\"+time+\".xlsx\"\n",
    "\t\tdfs.append(formatData(file,sample,time))\n",
    "plotdf=pd.concat(dfs)"
   ]
  },
  {
   "cell_type": "markdown",
   "metadata": {},
   "source": [
    "## Plot violin plots of nuclear GR fraction"
   ]
  },
  {
   "cell_type": "code",
   "execution_count": null,
   "metadata": {},
   "outputs": [],
   "source": [
    "#violin plots for nuclear fraction\n",
    "def violin(data):\n",
    "\tfontsize=8\n",
    "\tmm=0.0393701\n",
    "\tfigwidth=80\n",
    "\tfigheight=50\n",
    "\tplt.rcParams[\"font.family\"]=\"Arial\"\n",
    "\tplt.rcParams[\"font.size\"]=fontsize\n",
    "\tfig=plt.figure(dpi=300,figsize=(figwidth*mm,figheight*mm))\n",
    "\tpalette=[\"#6389FF\",\"#FF5C5C\",\"#1AC11B\"]\n",
    "\tsns.violinplot(data=data, x=\"Time\", y=\"Nuclear fraction\", hue=\"Cell line\",palette=palette,\n",
    "\t\t\t\t\tlinewidth=figwidth/80)\n",
    "\tplt.xlabel(\"Time with dexamethasone (hours)\")\n",
    "\tplt.ylabel(\"Nuclear fraction of total signal\")\n",
    "\tplt.legend(loc=\"best\", fontsize=fontsize-1)\n",
    "\tplt.show()\n",
    "violin(plotdf)\n"
   ]
  }
 ],
 "metadata": {
  "kernelspec": {
   "display_name": "Python 3.7.3 64-bit",
   "language": "python",
   "name": "python3"
  },
  "language_info": {
   "codemirror_mode": {
    "name": "ipython",
    "version": 3
   },
   "file_extension": ".py",
   "mimetype": "text/x-python",
   "name": "python",
   "nbconvert_exporter": "python",
   "pygments_lexer": "ipython3",
   "version": "3.7.3"
  },
  "orig_nbformat": 4,
  "vscode": {
   "interpreter": {
    "hash": "d49c3f6d6dd49f9272b571d9fad348ab55b8c6c3f691520d74ed0af1f69c3dd8"
   }
  }
 },
 "nbformat": 4,
 "nbformat_minor": 2
}
