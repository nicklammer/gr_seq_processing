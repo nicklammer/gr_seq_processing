{
 "cells": [
  {
   "cell_type": "markdown",
   "metadata": {},
   "source": [
    "# Analysis of GR immunofluorescence data (cell sorting)\n",
    "This Jupyter notebook contains scripts used to analyze immunofluorescence data. Specifically, the data is the median anti-GR nuclear and cytoplasmic signals from each imaged cell. The nuclear signal is then plotted for the 30 minute dexamethasone treated and ethanol treated samples.\n",
    "\n",
    "# Table of contents\n",
    "1. [Load packages and files and format data](#load-packages-and-files-and-format-data)\n",
    "2. [Plot box plots of nuclear GR signal](#plot-box-plots-of-nuclear-gr-signal)\n",
    "\n",
    "## Load packages and files and format data\n",
    "Load required packages and results files. Additionally, format data into a single dataframe for plotting."
   ]
  },
  {
   "cell_type": "code",
   "execution_count": null,
   "metadata": {},
   "outputs": [],
   "source": [
    "#notebook for plotting IF data\n",
    "import pandas as pd\n",
    "import numpy as np\n",
    "import matplotlib\n",
    "import matplotlib.pyplot as plt\n",
    "import seaborn as sns\n",
    "#file paths here\n",
    "if_path=\"..\\\\data\"\n",
    "samples = [\"Parental\",\"wt GR\", \"SoF\", \"Ctrl\"]\n",
    "times = [\"EtOH\",\"30 min Dex\"]\n",
    "if_files_untreated = [\"U2OS_UT_2.xlsx\",\n",
    "\t\t\t\t\t\t\"U2OS_UT_4.xlsx\",\n",
    "\t\t\t\t\t\t\"U2OS_UT_8.xlsx\",\n",
    "\t\t\t\t\t\t\"U2OS_UT_11.xlsx\"]\n",
    "if_files_treated = [\"U2OS_T_2.xlsx\",\n",
    "\t\t\t\t\t\t\"U2OS_T_4.xlsx\",\n",
    "\t\t\t\t\t\t\"U2OS_T_8.xlsx\",\n",
    "\t\t\t\t\t\t\"U2OS_T_11.xlsx\"]\n",
    "if_files = [[if_path+file for file in if_files_untreated],\n",
    "\t\t\t[if_path+file for file in if_files_treated]]\n",
    "#take data and put in dataframes\n",
    "def formatData(file,sample,time):\n",
    "\tdata=pd.read_excel(file)\n",
    "\tnuc=np.array(data[\"gfp_nuc_median\"]) \n",
    "\tcyto=np.array(data[\"gfp_cyto_median\"])\n",
    "\tnucfrac=[x/(x+y) for x,y in zip(nuc,cyto)]\n",
    "\tdict={\"Nuclear signal\":nuc,\n",
    "\t\t\"Cytoplasmic signal\":cyto,\n",
    "\t\t\"Nuclear fraction\":nucfrac,\n",
    "\t\t\"Cell line\":sample,\n",
    "\t\t\"Treatment\":time\n",
    "\t\t}\n",
    "\tdf=pd.DataFrame(dict)\n",
    "\treturn df\n",
    "#format data from each data file and concatenate into one dataframe\n",
    "dfs=[]\n",
    "for i,time in enumerate(times):\n",
    "\tfor n,sample in enumerate(samples):\n",
    "\t\tfile=if_files[i][n]\n",
    "\t\tdfs.append(formatData(file,sample,time))\n",
    "plotdf=pd.concat(dfs)"
   ]
  },
  {
   "cell_type": "markdown",
   "metadata": {},
   "source": [
    "## Plot box plots of nuclear GR signal"
   ]
  },
  {
   "cell_type": "code",
   "execution_count": null,
   "metadata": {},
   "outputs": [],
   "source": [
    "#box plots for nuclear GR signal\n",
    "def boxNuc(data):\n",
    "\tfontsize=8\n",
    "\tmm=0.0393701\n",
    "\tfigwidth=80\n",
    "\tfigheight=50\n",
    "\tplt.rcParams[\"font.family\"]=\"Arial\"\n",
    "\tplt.rcParams[\"font.size\"]=fontsize\n",
    "\tfig=plt.figure(dpi=300,figsize=(figwidth*mm,figheight*mm))\n",
    "\tpalette=[\"#D647E6\",\"#6389FF\",\"#FF5C5C\",\"#1AC11B\"]\n",
    "\t#fliers are not plotted due to large variance in signal\n",
    "\tg=sns.boxplot(data=data, x=\"Treatment\", y=\"Nuclear signal\", hue=\"Cell line\",palette=palette,\n",
    "\t\t\t\tlinewidth=figwidth/80,fliersize=0)\n",
    "\tplt.xlabel(\"Treatment\")\n",
    "\tplt.ylabel(\"Nuclear signal\")\n",
    "\tplt.ylim(0,10000)\n",
    "\tplt.legend(loc=\"upper left\", fontsize=fontsize-1)\n",
    "\tplt.show()\n",
    "boxNuc(plotdf)\n"
   ]
  }
 ],
 "metadata": {
  "kernelspec": {
   "display_name": "Python 3.7.3 64-bit",
   "language": "python",
   "name": "python3"
  },
  "language_info": {
   "codemirror_mode": {
    "name": "ipython",
    "version": 3
   },
   "file_extension": ".py",
   "mimetype": "text/x-python",
   "name": "python",
   "nbconvert_exporter": "python",
   "pygments_lexer": "ipython3",
   "version": "3.7.3"
  },
  "orig_nbformat": 4,
  "vscode": {
   "interpreter": {
    "hash": "d49c3f6d6dd49f9272b571d9fad348ab55b8c6c3f691520d74ed0af1f69c3dd8"
   }
  }
 },
 "nbformat": 4,
 "nbformat_minor": 2
}
