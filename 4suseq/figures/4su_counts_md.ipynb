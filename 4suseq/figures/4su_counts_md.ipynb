{
 "cells": [
  {
   "cell_type": "markdown",
   "metadata": {},
   "source": [
    "# 4sU-seq data analysis using DESeq2 rlog transformed counts\n",
    "This Jupyter notebook contains scripts used to plot 4sU-seq rlog transformed count data from DESeq2 for given lists of genes.\n",
    "\n",
    "# Table of contents\n",
    "1. [Load packages and files](#load-packages-and-files)\n",
    "2. [Get counts for genes in lists and calculate z-scores of gene abundance](#get-counts-for-genes-in-lists-and-calculate-z-scores-of-gene-abundance)\n",
    "3. [Plot box plots of gene abundance with p-value annotations](#plot-box-plots-of-gene-abundance-with-p-value-annotations)\n",
    "4. [Plot heatmaps of gene abundance](#plot-heatmaps-of-gene-abundance)\n",
    "5. [Plot line plots of gene abundance](#plot-line-plots-of-gene-abundance)\n",
    "\n",
    "## Load packages and files\n",
    "Load required packages and and rlog transformed counts file. Additionally, take the average between replicates and format into a dataframe labeled with sample names and times."
   ]
  },
  {
   "cell_type": "code",
   "execution_count": null,
   "metadata": {},
   "outputs": [],
   "source": [
    "#plot rlog transformed counts from DESeq2\n",
    "import pandas as pd\n",
    "pd.options.mode.chained_assignment = None\n",
    "import numpy as np\n",
    "from scipy import stats\n",
    "import matplotlib\n",
    "import matplotlib.pyplot as plt\n",
    "import seaborn as sns\n",
    "#enter p-value cutoff and file information here\n",
    "pCutoff=0.05\n",
    "resDir=\"..\\\\data\"\n",
    "outDir=\"..\\\\analyses\"\n",
    "countsFile=resDir+\"\\\\counts_rlog.csv\"\n",
    "#column names in the counts file\n",
    "sampleCols=[\"W_01\",\"W_02\",\"W_11\",\"W_12\",\n",
    "\t\"W_21\",\"W_22\",\"W_31\",\"W_32\",\n",
    "\t\"X92_01\",\"X92_02\",\"X92_11\",\"X92_12\",\n",
    "\t\"X92_21\",\"X92_22\",\"X92_31\",\"X92_32\",\n",
    "\t\"X70_01\",\"X70_02\",\"X70_11\",\"X70_12\",\n",
    "\t\"X70_21\",\"X70_22\",\"X70_31\",\"X70_32\"\n",
    "\t]\n",
    "samples=[\"wt\",\"SoF\",\"Ctrl\"]\n",
    "timesInt=[0,1,2,3]\n",
    "times=[str(time) for time in timesInt]\n",
    "sampleKeys=[]\n",
    "for sample in samples:\n",
    "\tfor time in times:\n",
    "\t\tsampleKeys.append(sample+time+\"h\")\n",
    "sampleValues=[]\n",
    "for i,sample in enumerate(sampleKeys):\n",
    "\tx,y=i*2,(i*2)+1#get pairs of columns based on key index (replicates)\n",
    "\tsampleValues.append([sampleCols[x],sampleCols[y]])\n",
    "sampleDict=dict(zip(sampleKeys,sampleValues))"
   ]
  },
  {
   "cell_type": "code",
   "execution_count": null,
   "metadata": {},
   "outputs": [],
   "source": [
    "#average counts between replicates\n",
    "def averageCounts(file):\n",
    "\tdf=pd.read_csv(file)\n",
    "\tdf.columns.values[0]=\"ens\"\n",
    "\tdfCounts=pd.DataFrame(data={\"ens\":df[\"ens\"]})\n",
    "\tfor key in sampleKeys:\n",
    "\t\tdfCounts[key]=df[sampleDict[key]].mean(axis=1)\n",
    "\treturn(dfCounts)\n",
    "dfCounts=averageCounts(countsFile)"
   ]
  },
  {
   "cell_type": "markdown",
   "metadata": {},
   "source": [
    "## Get counts for genes in lists and calculate z-scores of gene abundance\n",
    "Subset the counts dataframe using a given list of genes and calculate the z-score relative to the other samples and time points."
   ]
  },
  {
   "cell_type": "code",
   "execution_count": null,
   "metadata": {},
   "outputs": [],
   "source": [
    "#subset counts based on external gene list and calculate z-scores\n",
    "def subset(df,listFile,nameFile):\n",
    "\tdfList=pd.read_csv(outDir+\"\\\\\"+listFile, header=None)\n",
    "\tdfNames=pd.read_csv(outDir+\"\\\\\"+nameFile, header=None)\n",
    "\tdfSubset=df[df[\"ens\"].isin(dfList[0])]\n",
    "\t#reorder in case input lists are not in order of the count dataframe\n",
    "\tdfSubset.ens=dfSubset.ens.astype(\"category\")\n",
    "\tdfSubset.ens=dfSubset.ens.cat.set_categories(list(dfList[0]))\n",
    "\tdfSubset=dfSubset.sort_values([\"ens\"])\n",
    "\tdfSubset[\"name\"]=list(dfNames[0])\n",
    "\treturn(dfSubset)\n",
    "def countZscores(df):\n",
    "\t#calculate z-scores relative to all samples for a given gene\n",
    "\tdfZ=stats.zscore(df[sampleKeys],axis=1)\n",
    "\tdfZ[\"ens\"]=df[\"ens\"]\n",
    "\tdfZ[\"name\"]=df[\"name\"]\n",
    "\treturn(dfZ)\n",
    "def formatDataZ(df,cell,time):#used later for formatting dataframes for plotting\n",
    "\tdict={\"z-score\":df[cell+time+\"h\"],\n",
    "\t\t\"Cell line\":cell,\n",
    "\t\t\"Time\":time\n",
    "\t\t}\n",
    "\tdfOut=pd.DataFrame(dict)\n",
    "\treturn dfOut\n",
    "#SoF Dex-dep.\n",
    "SoF3hFile=\"SoF3h_ens.txt\"\n",
    "SoF3hNameFile=\"SoF3h_sym.txt\"\n",
    "dfSoF3h=subset(dfCounts,SoF3hFile,SoF3hNameFile)\n",
    "dfSoF3hZ=countZscores(dfSoF3h)\n",
    "#SoF Dex-ind.\n",
    "SoFUpFile=\"SoFPos_ens.txt\"\n",
    "SoFUpNameFile=\"SoFPos_sym.txt\"\n",
    "dfSoFUp=subset(dfCounts,SoFUpFile,SoFUpNameFile)\n",
    "dfSoFUpZ=countZscores(dfSoFUp)\n",
    "#SoF 3h Rep.\n",
    "SoF3hDownFile=\"SoF3hDown_ens.txt\"\n",
    "SoF3hDownNameFile=\"SoF3hDown_sym.txt\"\n",
    "dfSoF3hDown=subset(dfCounts,SoF3hDownFile,SoF3hDownNameFile)\n",
    "dfSoF3hDownZ=countZscores(dfSoF3hDown)\n",
    "#SoF Const. Rep.\n",
    "SoFDownFile=\"SoFDown_ens.txt\"\n",
    "SoFDownNameFile=\"SoFDown_sym.txt\"\n",
    "dfSoFDown=subset(dfCounts,SoFDownFile,SoFDownNameFile)\n",
    "dfSoFDownZ=countZscores(dfSoFDown)\n",
    "#100 most differentially expressed genes (wt GR)\n",
    "top100File=\"top100_wt3h_ens.txt\"\n",
    "top100NameFile=\"top100_wt3h_sym.txt\"\n",
    "dfTop100=subset(dfCounts,top100File,top100NameFile)\n",
    "dfTop100Z=countZscores(dfTop100)"
   ]
  },
  {
   "cell_type": "markdown",
   "metadata": {},
   "source": [
    "## Plot box plots of gene abundance with p-value annotations\n",
    "Plot the z-score of gene abundance for each gene in a list at each dexamethasone time point and for each cell line. Additionally, compare samples with Mann-Whitney test and annotate the plots with p-values."
   ]
  },
  {
   "cell_type": "code",
   "execution_count": null,
   "metadata": {},
   "outputs": [],
   "source": [
    "#box plots with stats\n",
    "from statannotations.Annotator import Annotator\n",
    "def boxCountsStats(df, pairs):\n",
    "\tfontsize=7\n",
    "\tmm=0.0393701\n",
    "\tfigwidth=60\n",
    "\tfigheight=40\n",
    "\tplt.rcParams[\"font.family\"]=\"Arial\"\n",
    "\tplt.rcParams[\"font.size\"]=fontsize\n",
    "\t#format dataframes to include samples and times for plotting\n",
    "\tdfs=[]\n",
    "\tfor sample in samples:\n",
    "\t\tfor time in times:\n",
    "\t\t\tdfs.append(formatDataZ(df,sample,time))\n",
    "\t#concatenate dataframes\n",
    "\tdfPlot=pd.concat(dfs, ignore_index=True)\n",
    "\tfig,ax=plt.subplots(dpi=300, figsize=(figwidth*mm,figheight*mm),layout=\"constrained\")\n",
    "\tpalette=[\"#6389FF\",\"#FF5C5C\",\"#1AC11B\"]\n",
    "\tsns.stripplot(data=dfPlot, ax=ax, x=\"Time\", y=\"z-score\", hue=\"Cell line\", palette=palette,\n",
    "\t\tdodge=True, alpha=0.63, linewidth=figwidth/100, size=figwidth/30, edgecolor=\"black\", legend=False)\n",
    "\tsns.boxplot(data=dfPlot, ax=ax, x=\"Time\", y=\"z-score\", hue=\"Cell line\", palette=palette,\n",
    "\t\tlinewidth=figwidth/60, fliersize=figwidth/30,\n",
    "\t\tboxprops={'edgecolor':'black'}, whiskerprops={'color':'black'}, capprops={'color':'black'},\n",
    "\t\tmedianprops={'color':'black'}, flierprops={'markeredgecolor':'black'})\n",
    "\t#annotate with p-values from Mann-Whitney test using the provided sample pairs\n",
    "\tannotator = Annotator(ax, pairs, data=dfPlot, x=\"Time\", y=\"z-score\", hue=\"Cell line\")\n",
    "\tannotator.configure(test='Mann-Whitney',text_format='simple',loc='inside',show_test_name=False)\n",
    "\tannotator.apply_and_annotate()\n",
    "\tax.set_xlabel(\"Time with dexamethasone (hours)\")\n",
    "\tax.set_ylabel(\"z-score of gene abundance\")\n",
    "\t#\"best\" sometimes puts the legend in a bad spot\n",
    "\t#ax.legend(loc=\"upper left\", fontsize=fontsize-1)\n",
    "\tax.legend(loc='best', fontsize=fontsize-1)\n",
    "\tplt.show()\n",
    "#define sample pairs for statistical tests\n",
    "SoF3hpairs=[((\"0\", \"wt\"), (\"0\", \"SoF\")),((\"0\", \"SoF\"), (\"0\", \"Ctrl\")),((\"3\", \"wt\"), (\"3\", \"SoF\")),((\"3\", \"SoF\"), (\"3\", \"Ctrl\"))]\n",
    "SoFUppairs=[((\"0\", \"SoF\"), (\"3\", \"SoF\")),((\"3\", \"SoF\"), (\"3\", \"Ctrl\"))]\n",
    "boxCountsStats(dfSoF3hZ,SoF3hpairs)\n",
    "boxCountsStats(dfSoFUpZ,SoFUppairs)\n",
    "boxCountsStats(dfSoF3hDownZ,SoF3hpairs)\n",
    "boxCountsStats(dfSoFDownZ, SoF3hpairs)\n",
    "boxCountsStats(dfTop100Z,SoF3hpairs)"
   ]
  },
  {
   "cell_type": "markdown",
   "metadata": {},
   "source": [
    "## Plot heatmaps of gene abundance\n",
    "Plot heatmaps using the z-score of gene abundance for each gene in a list at each dexamethasone time point and for each cell line."
   ]
  },
  {
   "cell_type": "code",
   "execution_count": null,
   "metadata": {},
   "outputs": [],
   "source": [
    "#heatmap\n",
    "def heatmapCounts(df):\n",
    "\tplt.rcParams[\"font.family\"]=\"Arial\"\n",
    "\txlabels=[]\n",
    "\tfor sample in samples:\n",
    "\t\tfor time in times:\n",
    "\t\t\txlabels.append(sample+\" \"+time+\"h\")\n",
    "\tdfPlot=df[sampleKeys]\n",
    "\tsns.set(rc={\"figure.dpi\":300, 'savefig.dpi':300})\n",
    "\theatmap=sns.clustermap(data=dfPlot,col_cluster=False,xticklabels=xlabels,\n",
    "\t\tyticklabels=df[\"name\"],row_cluster=True,dendrogram_ratio=0.0000001,figsize=(6,6),\n",
    "\t\tcbar_kws={'label': 'z-score of gene abundance'})\n",
    "\t#attempt to scale gene name fontsize based on how many genes there are\n",
    "\tif len(df.index) >= 50:\n",
    "\t\tyfontsize=400/len(df.index)\n",
    "\telse:\n",
    "\t\tyfontsize=12\n",
    "\theatmap.ax_heatmap.set_yticklabels(heatmap.ax_heatmap.get_ymajorticklabels(), fontsize = yfontsize)\n",
    "\theatmap.fig.subplots_adjust(right=0.57)\n",
    "\t#you might have to manually change the x position of this color bar to not overlap with gene names\n",
    "\theatmap.ax_cbar.set_position((0.7, .2, .03, .4))\n",
    "\tplt.show()\n",
    "\tsns.reset_defaults()\n",
    "heatmapCounts(dfSoF3hZ)\n",
    "heatmapCounts(dfSoFUpZ)\n",
    "heatmapCounts(dfSoF3hDownZ)\n",
    "heatmapCounts(dfSoFDownZ)\n",
    "heatmapCounts(dfTop100Z)"
   ]
  },
  {
   "cell_type": "markdown",
   "metadata": {},
   "source": [
    "## Plot line plots of gene abundance\n",
    "Plot the z-score of gene abundance over time for SoF Dex-dep. and SoF Dex-ind. gene sets as line plots. Dots indicate medians."
   ]
  },
  {
   "cell_type": "code",
   "execution_count": null,
   "metadata": {},
   "outputs": [],
   "source": [
    "#plot lines over time for models\n",
    "def lineCounts(df):\n",
    "\tplt.rcParams[\"font.family\"]=\"Arial\"\n",
    "\tdfs=[]\n",
    "\tfor sample in samples:\n",
    "\t\tfor time in times:\n",
    "\t\t\tdfs.append(formatDataZ(df,sample,time))\n",
    "\tdfPlot=pd.concat(dfs, ignore_index=True)\n",
    "\tfig,ax=plt.subplots(dpi=400)\n",
    "\tpalette=[\"#6389FF\",\"#FF5C5C\",\"#1AC11B\"]\n",
    "\t#plot medians as dots with lines connecting\n",
    "\tsns.pointplot(data=dfPlot, x=\"Time\", y=\"z-score\", hue=\"Cell line\", palette=palette,\n",
    "\t\testimator=np.median)\n",
    "\tax.set_xlabel(\"Time with dexamethasone (hours)\")\n",
    "\tax.set_ylabel(\"z-score of gene abundance\")\n",
    "\tplt.legend(loc=\"best\")\n",
    "lineCounts(dfSoF3hZ)\n",
    "lineCounts(dfSoFUpZ)"
   ]
  }
 ],
 "metadata": {
  "kernelspec": {
   "display_name": "Python 3.7.3 64-bit",
   "language": "python",
   "name": "python3"
  },
  "language_info": {
   "codemirror_mode": {
    "name": "ipython",
    "version": 3
   },
   "file_extension": ".py",
   "mimetype": "text/x-python",
   "name": "python",
   "nbconvert_exporter": "python",
   "pygments_lexer": "ipython3",
   "version": "3.7.3"
  },
  "orig_nbformat": 4,
  "vscode": {
   "interpreter": {
    "hash": "d49c3f6d6dd49f9272b571d9fad348ab55b8c6c3f691520d74ed0af1f69c3dd8"
   }
  }
 },
 "nbformat": 4,
 "nbformat_minor": 2
}
