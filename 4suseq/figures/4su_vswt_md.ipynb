{
 "cells": [
  {
   "cell_type": "markdown",
   "metadata": {},
   "source": [
    "# 4sU-seq data analysis using DESeq2 results output (mutant vs wt)\n",
    "This Jupyter notebook contains scripts used to analyze 4sU-seq differential expression from DESeq2 results. Specifically, results from comparing GR mutant data to wt GR, as in Lammer et al., 2023.\n",
    "\n",
    "# Table of contents\n",
    "1. [Load packages and files](#load-packages-and-files)\n",
    "2. [Save gene lists](#save-gene-lists)\n",
    "\n",
    "## Load packages and files <a name=\"initialize\"></a>\n",
    "Load required packages and results files. Additionally, format results into one dataframe with zero baseMean genes removed (dfNoZero)"
   ]
  },
  {
   "cell_type": "code",
   "execution_count": null,
   "metadata": {},
   "outputs": [],
   "source": [
    "#analyze DESeq2 results comparing fold change of SoF or Ctrl over wt GR\n",
    "import pandas as pd\n",
    "pd.options.mode.chained_assignment = None\n",
    "import numpy as np\n",
    "import scipy as sp\n",
    "from scipy import stats\n",
    "#input p-value cutoff and data paths here\n",
    "pCutoff=0.05\n",
    "resDir = \"..\\\\data\"\n",
    "outDir = \"..\\\\analyses\"\n",
    "cellnames = [\"sof\",\"ctrl\"]\n",
    "samplefiles=[]\n",
    "for cell in cellnames:\n",
    "\tsamplefiles.append(\"res_\"+cell+\"vswt\")\n",
    "resFiles=[resDir+\"\\\\\"+file+\".csv\" for file in samplefiles]"
   ]
  },
  {
   "cell_type": "code",
   "execution_count": null,
   "metadata": {},
   "outputs": [],
   "source": [
    "#format data into one dataframe, remove rows with zero baseMean\n",
    "def formatResFiles(resFiles):\n",
    "\ttables=[]\n",
    "\tallCols=[\"ens\",\"name\",\"baseMean\",\"log2FoldChange\",\"lfcSE\",\"padj\"]\n",
    "\tlessCols=[\"baseMean\",\"log2FoldChange\",\"lfcSE\",\"padj\"]\n",
    "\tfor i,file in enumerate(resFiles):\n",
    "\t\tif i==0:\n",
    "\t\t\ttables.append(pd.read_csv(file, usecols=allCols))\n",
    "\t\telse:\n",
    "\t\t\ttables.append(pd.read_csv(file, usecols=lessCols))\n",
    "\tensIDs=tables[0][\"ens\"]\n",
    "\tgeneNames=tables[0][\"name\"]\n",
    "\tdf=pd.DataFrame(ensIDs)\n",
    "\tdf[\"name\"]=geneNames\n",
    "\tfor i,x in enumerate(tables):\n",
    "\t\tcolNames=[cellnames[i]+\"_\"+y for y in lessCols]\n",
    "\t\tfor n,col in enumerate(colNames):\n",
    "\t\t\tdf[col]=x[lessCols[n]]\n",
    "\t#remove genes with NA gene names\n",
    "\tdf = df[df[\"name\"].isna()==False]\n",
    "\t#remove rows with zero base mean to remove nan fold change rows but maintain nan padjs\n",
    "\tdfNoZero=df.copy()\n",
    "\tcolumns=[x+\"_baseMean\" for x in cellnames]\n",
    "\tdfNoZero = dfNoZero[dfNoZero[columns].min(axis=1) > 0]\n",
    "\n",
    "\treturn dfNoZero\n",
    "dfNoZero=formatResFiles(resFiles)"
   ]
  },
  {
   "cell_type": "markdown",
   "metadata": {},
   "source": [
    "## Save gene lists <a name=\"savelists\"></a>\n",
    "Subset the results dataframe into genes constitutively upregulated or downregulated in SoF GR cells compared to wt GR cells and save to lists"
   ]
  },
  {
   "cell_type": "code",
   "execution_count": null,
   "metadata": {},
   "outputs": [],
   "source": [
    "#save files\n",
    "dfSoFPos=dfNoZero[(dfNoZero[\"sof_padj\"]<pCutoff) & (dfNoZero[\"ctrl_padj\"]>=pCutoff) & (dfNoZero[\"sof_log2FoldChange\"]>0)]\n",
    "dfSoFDown=dfNoZero[(dfNoZero[\"sof_padj\"]<pCutoff) & (dfNoZero[\"ctrl_padj\"]>=pCutoff) & (dfNoZero[\"sof_log2FoldChange\"]<0)]\n",
    "dfSoFPos[\"nover\"]=[x.split(\".\")[0] for x in dfSoFPos[\"ens\"]]\n",
    "dfSoFDown[\"nover\"]=[x.split(\".\")[0] for x in dfSoFDown[\"ens\"]]\n",
    "dfSoFPos.to_csv(outDir+\"\\\\SoFPos_sym.txt\",columns=[\"name\"],header=False,index=False)\n",
    "dfSoFPos.to_csv(outDir+\"\\\\SoFPos_ens.txt\",columns=[\"ens\"],header=False,index=False)\n",
    "dfSoFPos.to_csv(outDir+\"\\\\SoFPos_ens_nover.txt\",columns=[\"nover\"],header=False,index=False)\n",
    "dfSoFDown.to_csv(outDir+\"\\\\SoFDown_sym.txt\",columns=[\"name\"],header=False,index=False)\n",
    "dfSoFDown.to_csv(outDir+\"\\\\SoFDown_ens.txt\",columns=[\"ens\"],header=False,index=False)\n",
    "dfSoFDown.to_csv(outDir+\"\\\\SoFDown_ens_nover.txt\",columns=[\"nover\"],header=False,index=False)"
   ]
  }
 ],
 "metadata": {
  "kernelspec": {
   "display_name": "Python 3.7.9 64-bit",
   "language": "python",
   "name": "python3"
  },
  "language_info": {
   "codemirror_mode": {
    "name": "ipython",
    "version": 3
   },
   "file_extension": ".py",
   "mimetype": "text/x-python",
   "name": "python",
   "nbconvert_exporter": "python",
   "pygments_lexer": "ipython3",
   "version": "3.7.9"
  },
  "orig_nbformat": 4,
  "vscode": {
   "interpreter": {
    "hash": "d594b9a9dfa9f0260a59030d214cfba8b9c3aeb3962cdc0229d398cb1fbfe8ef"
   }
  }
 },
 "nbformat": 4,
 "nbformat_minor": 2
}
