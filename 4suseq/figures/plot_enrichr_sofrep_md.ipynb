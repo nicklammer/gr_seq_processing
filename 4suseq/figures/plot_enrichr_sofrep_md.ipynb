{
 "cells": [
  {
   "cell_type": "markdown",
   "metadata": {},
   "source": [
    "# Plot Enrichr results as bar graphs for SoF Rep. gene sets\n",
    "This Jupyter notebook contains scripts used to plot top results from Enrichr as bar graphs for specifically the SoF GR-repressed gene sets.\n",
    "\n",
    "# Table of contents\n",
    "1. [Load packages and files](#load-packages-and-files)\n",
    "2. [Top 3 bar graph](#top-3-bar-graph)\n",
    "\n",
    "## Load packages and files <a name=\"initialize\"></a>\n",
    "Load required packages and results files. Additionally, format results into one dataframe per Enrichr category."
   ]
  },
  {
   "cell_type": "code",
   "execution_count": null,
   "metadata": {},
   "outputs": [],
   "source": [
    "#plot enrichr table data by adjusted p-value and size of the set\n",
    "import matplotlib\n",
    "import matplotlib.pyplot as plt\n",
    "import pandas as pd\n",
    "import numpy as np\n",
    "import seaborn as sns\n",
    "#file paths here\n",
    "goDir = \"..\\\\data\\\\enrichr\"\n",
    "outDir = \"..\\\\analyses\"\n",
    "cheaFiles = [\n",
    "\t\"chea_sof3hdown.txt\",\n",
    "\t\"chea_sofdown.txt\"\n",
    "\t]\n",
    "pathwayFiles = [\n",
    "\t\"pathway_sof3hdown.txt\",\n",
    "\t\"pathway_sofdown.txt\"\n",
    "\t]\n",
    "chrlocFiles = [\n",
    "\t\"chrloc_sof3hdown.txt\",\n",
    "\t\"chrloc_sofdown.txt\"\n",
    "\t]\n",
    "cheaPaths = [goDir+\"\\\\\"+x for x in cheaFiles]\n",
    "pathwayPaths = [goDir+\"\\\\\"+x for x in pathwayFiles]\n",
    "chrlocPaths = [goDir+\"\\\\\"+x for x in chrlocFiles]\n",
    "names=[\"SoF 3h Rep.\", \"SoF Const. Rep.\"]\n",
    "\n",
    "#assemble data into dataframes\n",
    "def dfize(paths):\n",
    "\ttables = []\n",
    "\tfor path in paths:\n",
    "\t\ttables.append(pd.read_csv(path,sep='\\t'))\n",
    "\treturn tables\n",
    "\n",
    "cheaTable=dfize(cheaPaths)\n",
    "pathwayTable=dfize(pathwayPaths)\n",
    "chrlocTable=dfize(chrlocPaths)"
   ]
  },
  {
   "cell_type": "markdown",
   "metadata": {},
   "source": [
    "## Top 3 bar graph <a name=\"top3\"></a>\n",
    "Assemble the top 3 results by adjusted p-value from each gene set into one dataframe per category. Then either plot all categories into one figure (bar_all) or as pairs of categories (bar_two)."
   ]
  },
  {
   "cell_type": "code",
   "execution_count": null,
   "metadata": {},
   "outputs": [],
   "source": [
    "#get top 3 terms from each set by adjusted p-value\n",
    "def top3(dftable,names):\n",
    "\tcols=[\"Term\",\"Adjusted P-value\",\"-log10(padj)\",\"Gene Set\",\"SampleID\"]\n",
    "\ttop3df=pd.DataFrame(columns=cols)\n",
    "\tfor i,df in enumerate(dftable):\n",
    "\t\tdf=df.sort_values(by=\"Adjusted P-value\", ascending=True)\n",
    "\t\tdf=df[[\"Term\",\"Adjusted P-value\"]].head(3)\n",
    "\t\tdf[\"-log10(padj)\"]=-(np.log10(df[\"Adjusted P-value\"]))\n",
    "\t\tdf[\"Rank\"] = [1,2,3]\n",
    "\t\tdf[\"Gene Set\"]=names[i]\n",
    "\t\tdf[\"SampleID\"]=i\n",
    "\t\ttop3df=pd.concat([top3df,df])\n",
    "\treturn(top3df)\n",
    "cheaDf=top3(cheaTable,names)\n",
    "pathwayDf=top3(pathwayTable,names)\n",
    "chrlocDf=top3(chrlocTable,names)"
   ]
  },
  {
   "cell_type": "code",
   "execution_count": null,
   "metadata": {},
   "outputs": [],
   "source": [
    "#bar plots, top 3 terms from each metric, plot -log10(padj) with name of enrichment set\n",
    "def bar_all(dfs,titles):\n",
    "\tfontsize=10\n",
    "\tmm=0.0393701\n",
    "\tfigwidth=180\n",
    "\tfigheight=60\n",
    "\tplt.rcParams[\"font.family\"]=\"Arial\"\n",
    "\tplt.rcParams[\"font.size\"]=fontsize\n",
    "\tfig,ax=plt.subplots(1,3,dpi=300,figsize=(figwidth*mm,figheight*mm),layout=\"constrained\",sharey=True)\n",
    "\tax=ax.flatten()\n",
    "\thue_order=[1,2,3]\n",
    "\tdef autolabel(df,ax,rects):\n",
    "\t\t#bars plotted by rank so need to reorder the terms\n",
    "\t\tdfranksort=df.sort_values(by=[\"SampleID\",\"Rank\"],ascending=True)\n",
    "\t\tterms=list(dfranksort[\"Term\"])\n",
    "\t\tterms_short=[]\n",
    "\t\tmaxletters=30\n",
    "\t\tfor x in terms:\n",
    "\t\t\tif len(x) <= maxletters:\n",
    "\t\t\t\tterms_short.append(x)\n",
    "\t\t\telif len(x) > maxletters:\n",
    "\t\t\t\tterms_short.append(x[0:maxletters]+\"...\")\n",
    "\t\trectsX=[rect.get_x() for rect in rects]\n",
    "\t\trectsY=[rect.get_y() for rect in rects]\n",
    "\t\trectsHeight=[rect.get_height() for rect in rects]\n",
    "\t\trectDf=pd.DataFrame({\"x\":rectsX, \"y\":rectsY, \"height\":rectsHeight})\n",
    "\t\trectDf=rectDf.sort_values(by=\"y\", ascending=True)\n",
    "\t\tfor i in range(len(rectDf.index)):\n",
    "\t\t\tax.text(list(rectDf[\"x\"])[i]+0.1, list(rectDf[\"y\"])[i] + list(rectDf[\"height\"])[i] / 2.,terms_short[i], ha='left', va='center', color='black',fontsize=fontsize-3)\n",
    "\tfor i,df in enumerate(dfs):\n",
    "\t\tsns.barplot(data=df,x=\"-log10(padj)\",y=\"Gene Set\",hue=\"Rank\",\n",
    "\t\t\tax=ax[i],palette=\"muted\",order=names,hue_order=hue_order)\n",
    "\t\t#p-value 0.05 line\n",
    "\t\tax[i].axvline(-(np.log10(0.05)),0,1, color=\"gray\", alpha=0.6, linestyle=\"dashed\")\n",
    "\t\tax[i].get_legend().remove()\n",
    "\t\tax[i].set_title(titles[i])\n",
    "\t\tautolabel(df,ax[i],ax[i].patches)\n",
    "\t\tax[i].set_xlabel('-log10(Adjusted P-value)')\n",
    "\t\tif i > 0:\n",
    "\t\t\tax[i].set_ylabel('')\n",
    "bar_all([cheaDf,pathwayDf,chrlocDf],[\"ChEA TFs\",\"Pathways\",\"Chromosome\"])"
   ]
  }
 ],
 "metadata": {
  "kernelspec": {
   "display_name": "Python 3.7.3 64-bit",
   "language": "python",
   "name": "python3"
  },
  "language_info": {
   "codemirror_mode": {
    "name": "ipython",
    "version": 3
   },
   "file_extension": ".py",
   "mimetype": "text/x-python",
   "name": "python",
   "nbconvert_exporter": "python",
   "pygments_lexer": "ipython3",
   "version": "3.7.3"
  },
  "orig_nbformat": 4,
  "vscode": {
   "interpreter": {
    "hash": "d49c3f6d6dd49f9272b571d9fad348ab55b8c6c3f691520d74ed0af1f69c3dd8"
   }
  }
 },
 "nbformat": 4,
 "nbformat_minor": 2
}
