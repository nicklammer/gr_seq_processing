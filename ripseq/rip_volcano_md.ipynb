{
 "cells": [
  {
   "cell_type": "markdown",
   "metadata": {},
   "source": [
    "# RIP-seq data analysis using DESeq2 results output (3 hour dex treatment)\n",
    "This Jupyter notebook contains scripts used to analyze RIP-seq enrichemnt from DESeq2 results.\n",
    "\n",
    "# Table of contents\n",
    "1. [Load packages and files](#load-packages-and-files)\n",
    "2. [Plot volcano plot for GR RIP enrichment](#plot-volcano-plot-for-gr-rip-enrichment)\n",
    "\n",
    "## Load packages and files\n",
    "Load required packages and results files. Additionally, format results into one dataframe with zero baseMean genes removed (dfNoZero)"
   ]
  },
  {
   "cell_type": "code",
   "execution_count": null,
   "metadata": {},
   "outputs": [],
   "source": [
    "#notebook for processing rip-seq\n",
    "import pandas as pd\n",
    "pd.options.mode.chained_assignment = None\n",
    "import numpy as np\n",
    "import matplotlib\n",
    "import matplotlib.pyplot as plt\n",
    "import seaborn as sns\n",
    "from adjustText import adjust_text\n",
    "#p-value cutoff and file paths here\n",
    "pCutoff=0.05\n",
    "resDir = \"..\\\\data\"\n",
    "outDir = \"..\\\\analyses\"\n",
    "times = [\"0\",\"1\",\"2\",\"3\"]\n",
    "samples=[]\n",
    "samplefiles=[]\n",
    "for time in times:\n",
    "\tsamples.append(time+\"h\")\n",
    "\tsamplefiles.append(\"rip_res_\"+time)\n",
    "resFiles=[resDir+\"\\\\\"+file+\".csv\" for file in samplefiles]"
   ]
  },
  {
   "cell_type": "code",
   "execution_count": null,
   "metadata": {},
   "outputs": [],
   "source": [
    "#format data into one dataframe, remove rows with zero baseMean\n",
    "def formatResFiles(resFiles):\n",
    "\ttables=[]\n",
    "\tallCols=[\"ens\",\"name\",\"baseMean\",\"log2FoldChange\",\"lfcSE\",\"padj\"]\n",
    "\tlessCols=[\"baseMean\",\"log2FoldChange\",\"lfcSE\",\"padj\"]\n",
    "\tfor i,file in enumerate(resFiles):\n",
    "\t\tif i==0:\n",
    "\t\t\ttables.append(pd.read_csv(file, usecols=allCols))\n",
    "\t\telse:\n",
    "\t\t\ttables.append(pd.read_csv(file, usecols=lessCols))\n",
    "\tensIDs=tables[0][\"ens\"]\n",
    "\tgeneNames=tables[0][\"name\"]\n",
    "\tdf=pd.DataFrame(ensIDs)\n",
    "\tdf[\"name\"]=geneNames\n",
    "\tfor i,x in enumerate(tables):\n",
    "\t\tcolNames=[samples[i]+\"_\"+y for y in lessCols]\n",
    "\t\tfor n,col in enumerate(colNames):\n",
    "\t\t\tdf[col]=x[lessCols[n]]\n",
    "\t#remove genes with NA gene names\n",
    "\tdf = df[df[\"name\"].isna()==False]\n",
    "\t#remove rows with zero base mean to remove nan fold change rows but maintain nan padjs\n",
    "\tdfNoZero=df.copy()\n",
    "\tcolumns=[x+\"_baseMean\" for x in samples]\n",
    "\tdfNoZero = dfNoZero[dfNoZero[columns].min(axis=1) > 0]\n",
    "\n",
    "\treturn dfNoZero\n",
    "dfNoZero=formatResFiles(resFiles)"
   ]
  },
  {
   "cell_type": "markdown",
   "metadata": {},
   "source": [
    "## Plot volcano plot for GR RIP enrichment"
   ]
  },
  {
   "cell_type": "code",
   "execution_count": null,
   "metadata": {},
   "outputs": [],
   "source": [
    "#volcano plot\n",
    "def volcano(df,time,pCutoff):\n",
    "\tplt.rcParams[\"font.family\"]=\"Arial\"\n",
    "\tfig,ax=plt.subplots(dpi=400, figsize=(3.5,4))\n",
    "\tsamplecols=[\"name\",time+\"h_log2FoldChange\",time+\"h_padj\"]\n",
    "\tdfPlot=df[samplecols]\n",
    "\tconditions=[#categorize genes based on p-adjusted \n",
    "\t\t\t(dfPlot[samplecols[2]]<pCutoff) & (dfPlot[samplecols[1]]>0),\n",
    "\t\t\t(dfPlot[samplecols[2]]<pCutoff) & (dfPlot[samplecols[1]]<0),\n",
    "\t\t\t(dfPlot[samplecols[2]]>=pCutoff)\n",
    "\t\t]\n",
    "\tvalues=[\"Enriched\",\"Depleted\",\"Neither\"]\n",
    "\thue_order=[\"Neither\",\"Depleted\",\"Enriched\"]\n",
    "\tdfPlot[\"p < \"+str(pCutoff)]=np.select(conditions,values)\n",
    "\tdfPlot[\"-log10(p-adjusted)\"]=-(np.log10(dfPlot[samplecols[2]]))\n",
    "\tpalette=[\"#858585\",\"#6389FF\",\"#FF5C5C\"]\n",
    "\tsns.scatterplot(data=dfPlot,x=samplecols[1],y=\"-log10(p-adjusted)\",\n",
    "\t\t\tax=ax,hue=\"p < \"+str(pCutoff),hue_order=hue_order,alpha=1,palette=palette,s=15)\n",
    "\t#label top 10 genes on the plot (by adjusted p-value)\n",
    "\tdfLabel=dfPlot[dfPlot[samplecols[1]]>0]\n",
    "\tdfLabelSort=dfLabel.sort_values(by=[\"-log10(p-adjusted)\"],ascending=False)\n",
    "\tdfLabelSort=dfLabelSort.head(10)\n",
    "\ttop10=[list(dfLabelSort[\"name\"]),list(dfLabelSort[samplecols[1]]),list(dfLabelSort[\"-log10(p-adjusted)\"])]\n",
    "\ttexts=[]\n",
    "\tfor i in range(len(dfLabelSort.index)):\n",
    "\t\ttexts.append(plt.text(top10[1][i],top10[2][i],top10[0][i]))\n",
    "\tadjust_text(texts, force_points=0.1, force_text=0.1,\n",
    "\t\t\texpand_points=(1, 1), expand_text=(1, 1),\n",
    "\t\t\tarrowprops=dict(arrowstyle=\"-\", color='black', lw=0.7))\n",
    "\t#annotate with number of genes and enriched genes\n",
    "\tngenes=len(dfPlot.index)\n",
    "\tnEnr=len(dfPlot[dfPlot[\"p < \"+str(pCutoff)]==\"Enriched\"].index)\n",
    "\tax.text(0.99, 0.005, \"total = \"+str(ngenes)+\", enriched = \"+str(nEnr), horizontalalignment='right',\n",
    "\t\t\tsize='medium', color='black', weight='normal', transform=ax.transAxes)\n",
    "\tax.set_xlabel(\"log2 Fold Change (IP vs. input)\")\n",
    "\tax.set_ylabel(\"-log10(adjusted p-value)\")\n",
    "\tplt.legend(loc=\"best\")\n",
    "volcano(dfNoZero,\"3\",pCutoff)"
   ]
  }
 ],
 "metadata": {
  "kernelspec": {
   "display_name": "Python 3.7.3 64-bit",
   "language": "python",
   "name": "python3"
  },
  "language_info": {
   "codemirror_mode": {
    "name": "ipython",
    "version": 3
   },
   "file_extension": ".py",
   "mimetype": "text/x-python",
   "name": "python",
   "nbconvert_exporter": "python",
   "pygments_lexer": "ipython3",
   "version": "3.7.3"
  },
  "orig_nbformat": 4,
  "vscode": {
   "interpreter": {
    "hash": "d49c3f6d6dd49f9272b571d9fad348ab55b8c6c3f691520d74ed0af1f69c3dd8"
   }
  }
 },
 "nbformat": 4,
 "nbformat_minor": 2
}
